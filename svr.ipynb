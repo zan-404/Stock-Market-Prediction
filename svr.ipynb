{
 "cells": [
  {
   "cell_type": "code",
   "execution_count": 5,
   "metadata": {},
   "outputs": [
    {
     "name": "stdout",
     "output_type": "stream",
     "text": [
      "Automatically created module for IPython interactive environment\n"
     ]
    }
   ],
   "source": [
    "print(__doc__)\n",
    "\n",
    "import numpy as np\n",
    "import scipy as sp\n",
    "import pandas as pd\n",
    "from subprocess import check_output\n",
    "from sklearn.svm import SVR\n",
    "\n",
    "import matplotlib.pyplot as plt\n",
    "%matplotlib inline\n",
    "\n",
    "import csv"
   ]
  },
  {
   "cell_type": "code",
   "execution_count": 6,
   "metadata": {},
   "outputs": [],
   "source": [
    "\n",
    "#read the csv into a dataframe\n",
    "df = pd.read_csv('groupeddf.csv', parse_dates = ['Date'] )\n",
    "#print the contents of the dataframe"
   ]
  },
  {
   "cell_type": "code",
   "execution_count": 9,
   "metadata": {},
   "outputs": [
    {
     "data": {
      "text/html": [
       "<div>\n",
       "<style scoped>\n",
       "    .dataframe tbody tr th:only-of-type {\n",
       "        vertical-align: middle;\n",
       "    }\n",
       "\n",
       "    .dataframe tbody tr th {\n",
       "        vertical-align: top;\n",
       "    }\n",
       "\n",
       "    .dataframe thead th {\n",
       "        text-align: right;\n",
       "    }\n",
       "</style>\n",
       "<table border=\"1\" class=\"dataframe\">\n",
       "  <thead>\n",
       "    <tr style=\"text-align: right;\">\n",
       "      <th></th>\n",
       "      <th>Open</th>\n",
       "      <th>High</th>\n",
       "      <th>Low</th>\n",
       "      <th>Close</th>\n",
       "      <th>Volume</th>\n",
       "    </tr>\n",
       "  </thead>\n",
       "  <tbody>\n",
       "    <tr>\n",
       "      <td>count</td>\n",
       "      <td>79322.000000</td>\n",
       "      <td>79322.000000</td>\n",
       "      <td>79322.000000</td>\n",
       "      <td>79322.000000</td>\n",
       "      <td>79322.000000</td>\n",
       "    </tr>\n",
       "    <tr>\n",
       "      <td>mean</td>\n",
       "      <td>796.486704</td>\n",
       "      <td>796.924750</td>\n",
       "      <td>796.045823</td>\n",
       "      <td>796.485690</td>\n",
       "      <td>4013.469286</td>\n",
       "    </tr>\n",
       "    <tr>\n",
       "      <td>std</td>\n",
       "      <td>2564.123531</td>\n",
       "      <td>2565.299345</td>\n",
       "      <td>2562.938258</td>\n",
       "      <td>2564.110301</td>\n",
       "      <td>11137.480021</td>\n",
       "    </tr>\n",
       "    <tr>\n",
       "      <td>min</td>\n",
       "      <td>2.388517</td>\n",
       "      <td>2.390670</td>\n",
       "      <td>2.387560</td>\n",
       "      <td>2.390431</td>\n",
       "      <td>1.000000</td>\n",
       "    </tr>\n",
       "    <tr>\n",
       "      <td>25%</td>\n",
       "      <td>95.703103</td>\n",
       "      <td>95.760155</td>\n",
       "      <td>95.622385</td>\n",
       "      <td>95.687901</td>\n",
       "      <td>292.703368</td>\n",
       "    </tr>\n",
       "    <tr>\n",
       "      <td>50%</td>\n",
       "      <td>263.770259</td>\n",
       "      <td>263.958052</td>\n",
       "      <td>263.569776</td>\n",
       "      <td>263.769140</td>\n",
       "      <td>1024.355239</td>\n",
       "    </tr>\n",
       "    <tr>\n",
       "      <td>75%</td>\n",
       "      <td>659.922287</td>\n",
       "      <td>660.186245</td>\n",
       "      <td>659.522354</td>\n",
       "      <td>659.876600</td>\n",
       "      <td>3644.646337</td>\n",
       "    </tr>\n",
       "    <tr>\n",
       "      <td>max</td>\n",
       "      <td>45725.799198</td>\n",
       "      <td>45754.869786</td>\n",
       "      <td>45694.244786</td>\n",
       "      <td>45722.007888</td>\n",
       "      <td>728299.224000</td>\n",
       "    </tr>\n",
       "  </tbody>\n",
       "</table>\n",
       "</div>"
      ],
      "text/plain": [
       "               Open          High           Low         Close         Volume\n",
       "count  79322.000000  79322.000000  79322.000000  79322.000000   79322.000000\n",
       "mean     796.486704    796.924750    796.045823    796.485690    4013.469286\n",
       "std     2564.123531   2565.299345   2562.938258   2564.110301   11137.480021\n",
       "min        2.388517      2.390670      2.387560      2.390431       1.000000\n",
       "25%       95.703103     95.760155     95.622385     95.687901     292.703368\n",
       "50%      263.770259    263.958052    263.569776    263.769140    1024.355239\n",
       "75%      659.922287    660.186245    659.522354    659.876600    3644.646337\n",
       "max    45725.799198  45754.869786  45694.244786  45722.007888  728299.224000"
      ]
     },
     "execution_count": 9,
     "metadata": {},
     "output_type": "execute_result"
    }
   ],
   "source": [
    "\n",
    "df.describe()"
   ]
  },
  {
   "cell_type": "code",
   "execution_count": 10,
   "metadata": {},
   "outputs": [
    {
     "data": {
      "text/plain": [
       "Code      79322\n",
       "Date      79322\n",
       "Open      79322\n",
       "High      79322\n",
       "Low       79322\n",
       "Close     79322\n",
       "Volume    79322\n",
       "dtype: int64"
      ]
     },
     "execution_count": 10,
     "metadata": {},
     "output_type": "execute_result"
    }
   ],
   "source": [
    "#remove null value (preprocessing)\n",
    "df = df.dropna()   \n",
    "df.count() "
   ]
  },
  {
   "cell_type": "code",
   "execution_count": 11,
   "metadata": {},
   "outputs": [
    {
     "data": {
      "text/plain": [
       "Date      datetime64[ns]\n",
       "Open             float64\n",
       "High             float64\n",
       "Low              float64\n",
       "Close            float64\n",
       "Volume           float64\n",
       "dtype: object"
      ]
     },
     "execution_count": 11,
     "metadata": {},
     "output_type": "execute_result"
    }
   ],
   "source": [
    "#set index for locating companies\n",
    "df3=df.set_index(\"Code\")\n",
    "df3.dtypes"
   ]
  },
  {
   "cell_type": "code",
   "execution_count": 12,
   "metadata": {},
   "outputs": [
    {
     "ename": "NameError",
     "evalue": "name 'uniqueVals' is not defined",
     "output_type": "error",
     "traceback": [
      "\u001b[0;31m---------------------------------------------------------------------------\u001b[0m",
      "\u001b[0;31mNameError\u001b[0m                                 Traceback (most recent call last)",
      "\u001b[0;32m<ipython-input-12-a37fa6d550f7>\u001b[0m in \u001b[0;36m<module>\u001b[0;34m\u001b[0m\n\u001b[0;32m----> 1\u001b[0;31m \u001b[0muniqueVals\u001b[0m\u001b[0;34m\u001b[0m\u001b[0;34m\u001b[0m\u001b[0m\n\u001b[0m",
      "\u001b[0;31mNameError\u001b[0m: name 'uniqueVals' is not defined"
     ]
    }
   ],
   "source": [
    "uniqueVals"
   ]
  },
  {
   "cell_type": "code",
   "execution_count": 14,
   "metadata": {},
   "outputs": [
    {
     "data": {
      "text/plain": [
       "array(['3IINFOTECH', '8KMILES', 'ABAN', 'ABB', 'ABBOTINDIA', 'ABIRLANUVO',\n",
       "       'ACC', 'ADANIENT', 'ADANIPORTS', 'ADANIPOWER', 'AHMEDFORGE',\n",
       "       'AIAENG', 'AIL', 'AJANTPHARM', 'AKZOINDIA', 'ALBK', 'ALEMBICLTD',\n",
       "       'ALLCARGO', 'ALOKTEXT', 'AMARAJABAT', 'AMBUJACEM', 'AMTEKAUTO',\n",
       "       'AMTEKINDIA', 'ANANTRAJ', 'ANDHRABANK', 'APLLTD', 'APOLLOHOSP',\n",
       "       'APOLLOTYRE', 'ARCOTECH', 'ARVIND', 'ARVINDREM', 'ASHOKA',\n",
       "       'ASHOKLEY', 'ASIANPAINT', 'ASTRAL', 'ASTRAMICRO', 'ATFL',\n",
       "       'ATULAUTO', 'AURIONPRO', 'AUROPHARMA', 'AXISBANK', 'AXISCADES',\n",
       "       'BAJAJCORP', 'BAJAJELEC', 'BAJAJFINSV', 'BAJAJHIND', 'BAJAJHLDNG',\n",
       "       'BAJFINANCE', 'BALKRISIND', 'BALMLAWRIE', 'BALRAMCHIN',\n",
       "       'BANKBARODA', 'BANKINDIA', 'BATAINDIA', 'BAYERCROP', 'BBL', 'BBTC',\n",
       "       'BEL', 'BEML', 'BERGEPAINT', 'BFUTILITIE', 'BGRENERGY',\n",
       "       'BHARATFORG', 'BHARTIARTL', 'BHEL', 'BIOCON', 'BLUEDART',\n",
       "       'BOMDYEING', 'BOSCHLTD', 'BPCL', 'BPL', 'BRITANNIA', 'CADILAHC',\n",
       "       'CAIRN', 'CANBK', 'CANFINHOME', 'CAPF', 'CARERATING', 'CASTROLIND',\n",
       "       'CEATLTD', 'CENTRALBK', 'CENTUM', 'CENTURYTEX', 'CERA', 'CESC',\n",
       "       'CHAMBLFERT', 'CHOLAFIN', 'CIPLA', 'CMAHENDRA', 'CMC', 'COALINDIA',\n",
       "       'CONCOR', 'COROMANDEL', 'CORPBANK', 'CRISIL', 'CROMPGREAV', 'CUB',\n",
       "       'CUMMINSIND', 'CYIENT', 'DABUR', 'DBREALTY', 'DCBBANK',\n",
       "       'DEEPAKFERT', 'DELTACORP', 'DENABANK', 'DEN', 'DHFL', 'DISHMAN',\n",
       "       'DISHTV', 'DIVISLAB', 'DLF', 'DRDATSONS', 'DREDGECORP', 'DRREDDY',\n",
       "       'EDELWEISS', 'EICHERMOT', 'ELDERPHARM', 'EMAMILTD', 'ENGINERSIN',\n",
       "       'EROSMEDIA', 'ESCORTS', 'ESSAROIL', 'ESSDEE', 'ESSELPACK',\n",
       "       'EVERESTIND', 'EXIDEIND', 'FCEL', 'FEDERALBNK', 'FIEMIND',\n",
       "       'FINCABLES', 'FINPIPE', 'FORTIS', 'FRL', 'FSL', 'GABRIEL',\n",
       "       'GALLISPAT', 'GATI', 'GDL', 'GEOMETRIC', 'GESHIP', 'GICHSGFIN',\n",
       "       'GITANJALI', 'GLAXO', 'GLENMARK', 'GLOBOFFS', 'GMDCLTD',\n",
       "       'GMRINFRA', 'GNFC', 'GODREJCP', 'GODREJIND', 'GODREJPROP',\n",
       "       'GOLDBEES', 'GPPL', 'GRANULES', 'GRASIM', 'GREAVESCOT', 'GRUH',\n",
       "       'GSFC', 'GSKCONS', 'GSPL', 'GUJRATGAS', 'GULFOILLUB', 'GVKPIL',\n",
       "       'HANUNG', 'HATHWAY', 'HAVELLS', 'HBLPOWER', 'HCC', 'HCLTECH',\n",
       "       'HDFCBANK', 'HDFC', 'HDIL', 'HEIDELBERG', 'HEROMOTOCO', 'HEXAWARE',\n",
       "       'HFCL', 'HINDALCO', 'HINDOILEXP', 'HINDPETRO', 'HINDUNILVR',\n",
       "       'HINDZINC', 'HITECHGEAR', 'HMT', 'HSIL', 'IBREALEST', 'IBULHSGFIN',\n",
       "       'ICICIBANK', 'IDBI', 'IDEA', 'IDFC', 'IFBIND', 'IFCI', 'IGL',\n",
       "       'IIFL', 'IMPAL', 'INDHOTEL', 'INDIACEM', 'INDIANB', 'INDOCO',\n",
       "       'INDOSOLAR', 'INDRAMEDCO', 'INDUSINDBK', 'INFRATEL', 'INFY',\n",
       "       'INGVYSYABK', 'INTELLECT', 'IOB', 'IOC', 'IPCALAB', 'IRB', 'ITC',\n",
       "       'IVRCLINFRA', 'JAICORPLTD', 'JBFIND', 'JBMA', 'JINDALPOLY',\n",
       "       'JINDALSAW', 'JINDALSTEL', 'JISLJALEQS', 'JKCEMENT', 'JKLAKSHMI',\n",
       "       'JKTYRE', 'JMFINANCIL', 'JPASSOCIAT', 'JPINFRATEC', 'JPPOWER',\n",
       "       'JSL', 'JSWENERGY', 'JSWHL', 'JSWSTEEL', 'JUBILANT', 'JUBLFOOD',\n",
       "       'JUSTDIAL', 'JYOTHYLAB', 'KAJARIACER', 'KALPATPOWR', 'KANSAINER',\n",
       "       'KARURVYSYA', 'KEC', 'KEI', 'KESORAMIND', 'KITEX', 'KOLTEPATIL',\n",
       "       'KOPRAN', 'KOTAKBANK', 'KPIT', 'KPRMILL', 'KRBL', 'KSCL', 'KSL',\n",
       "       'KTKBANK', 'LAKSHVILAS', 'LIBERTSHOE', 'LICHSGFIN', 'LIQUIDBEES',\n",
       "       'LITL', 'LLOYDELENG', 'LOVABLE', 'LT', 'LUMAXTECH', 'LUPIN',\n",
       "       'MAHINDCIE', 'MAHSEAMLES', 'MAKE', 'MANAPPURAM', 'MANGCHEFER',\n",
       "       'MANGLMCEM', 'MANINFRA', 'MARICO', 'MARKSANS', 'MARUTI', 'MASTEK',\n",
       "       'MAX', 'MCLEODRUSS', 'MCX', 'MEGH', 'MERCK', 'MHRIL', 'MINDTREE',\n",
       "       'MIRZAINT', 'MMFL', 'MMTC', 'MOIL', 'MONSANTO', 'MONTECARLO',\n",
       "       'MOTHERSUMI', 'MPHASIS', 'MPSLTD', 'MRF', 'MTNL', 'MUTHOOTFIN',\n",
       "       'NATCOPHARM', 'NATIONALUM', 'NBCC', 'NCC', 'NDL', 'NELCO', 'NESCO',\n",
       "       'NESTLEIND', 'NEULANDLAB', 'NFL', 'NHPC', 'NIFTYBEES', 'NIITLTD',\n",
       "       'NILKAMAL', 'NMDC', 'NOCIL', 'NTPC', 'OBEROIRLTY', 'OFSS', 'OIL',\n",
       "       'OMAXE', 'OMKARCHEM', 'ONGC', 'ONMOBILE', 'ORCHIDCHEM',\n",
       "       'ORIENTBANK', 'ORIENTCEM', 'ORISSAMINE', 'PAGEIND', 'PARSVNATH',\n",
       "       'PATELENG', 'PATINTLOG', 'PCJEWELLER', 'PEL', 'PENIND',\n",
       "       'PERSISTENT', 'PETRONET', 'PFC', 'PFIZER', 'PFS', 'PHILIPCARB',\n",
       "       'PHOENIXLTD', 'PIDILITIND', 'PIIND', 'PIPAVAVDOC', 'PNB',\n",
       "       'PNBGILTS', 'POLARIS', 'POLYMED', 'PONDYOXIDE', 'POWERGRID',\n",
       "       'PRAJIND', 'PRESTIGE', 'PTC', 'PUNJLLOYD', 'PVR', 'RAJTV',\n",
       "       'RALLIS', 'RAMCOCEM', 'RANBAXY', 'RAYMOND', 'RCF', 'RCOM',\n",
       "       'RECLTD', 'RELAXO', 'RELCAPITAL', 'RELIANCE', 'RELIGARE',\n",
       "       'RELINFRA', 'RENUKA', 'REPCOHOME', 'RICOAUTO', 'RIIL', 'RKFORGE',\n",
       "       'ROLTA', 'RPOWER', 'SADBHAV', 'SAIL', 'SAKSOFT', 'SANOFI', 'SBBJ',\n",
       "       'SBIN', 'SBT', 'SCHNEIDER', 'SCI', 'SELAN', 'SFCL', 'SHALPAINTS',\n",
       "       'SHARDACROP', 'SHARONBIO', 'SHASUNPHAR', 'SHOPERSTOP', 'SHREECEM',\n",
       "       'SHREYAS', 'SHRIRAMCIT', 'SICAL', 'SIEMENS', 'SINTEX', 'SKSMICRO',\n",
       "       'SMLISUZU', 'SNOWMAN', 'SOBHA', 'SOUTHBANK', 'SPARC', 'SPIC',\n",
       "       'SREINFRA', 'SRF', 'SRTRANSFIN', 'SSLT', 'STAR', 'STRTECH',\n",
       "       'SUNDRMFAST', 'SUNPHARMA', 'SUNTV', 'SURYAROSNI', 'SUVEN',\n",
       "       'SUZLON', 'SWANENERGY', 'SYMPHONY', 'SYNDIBANK', 'TALWALKARS',\n",
       "       'TANLA', 'TATACHEM', 'TATACOFFEE', 'TATACOMM', 'TATAELXSI',\n",
       "       'TATAGLOBAL', 'TATAMETALI', 'TATAMOTORS', 'TATAPOWER',\n",
       "       'TATASPONGE', 'TATASTEEL', 'TCI', 'TCS', 'TECHM', 'TEXRAIL',\n",
       "       'TFCILTD', 'THEBYKE', 'THERMAX', 'TI', 'TIMKEN', 'TITAN',\n",
       "       'TORNTPHARM', 'TORNTPOWER', 'TREEHOUSE', 'TRENT', 'TTML',\n",
       "       'TV18BRDCST', 'TVSMOTOR', 'TVTODAY', 'TWL'], dtype=object)"
      ]
     },
     "execution_count": 14,
     "metadata": {},
     "output_type": "execute_result"
    }
   ],
   "source": [
    "# creates an array of company names\n",
    "uniqueVals = df[\"Code\"].unique() \n",
    "# appends the results of all companies\n",
    "grouped_df=pd.DataFrame()  # empty dataframe\n",
    "for i in uniqueVals:\n",
    "    # store DataFrame in list\n",
    "    grouped_df=grouped_df.append((df3.loc[i,:]).groupby(['Code','Date']).mean())\n",
    "#grouped_df = append_df.reset_index()\n",
    "uniqueVals\n"
   ]
  },
  {
   "cell_type": "code",
   "execution_count": 15,
   "metadata": {},
   "outputs": [],
   "source": [
    "#grouped_CHAMBLFERT= (grouped_df.loc[\"CHAMBLFERT\",:]).drop(['Code', index = False])\n",
    "grouped_infotech = (grouped_df.loc[\"3IINFOTECH\",:]).reset_index()"
   ]
  },
  {
   "cell_type": "code",
   "execution_count": 16,
   "metadata": {},
   "outputs": [],
   "source": [
    "grouped_infotech.to_csv('infotech.csv', encoding='utf-8', index=False) #converting into csv"
   ]
  },
  {
   "cell_type": "code",
   "execution_count": 17,
   "metadata": {},
   "outputs": [],
   "source": [
    "#plt.switch_backend('newbackend') \n",
    "import csv\n",
    "dates = []\n",
    "prices = []\n",
    "\n",
    "def get_data(filename):\n",
    "\twith open(filename, 'r') as csvfile:\n",
    "\t\tcsvFileReader = csv.reader(csvfile)\n",
    "\t\tnext(csvFileReader)\t# skipping column names\n",
    "\t\tfor row in csvFileReader:\n",
    "\t\t\tdates.append(int(row[0].split('-')[2]))\n",
    "\t\t\tprices.append(float(row[1]))\n",
    "\treturn\n",
    "\n",
    "get_data('infotech.csv')\n"
   ]
  },
  {
   "cell_type": "code",
   "execution_count": 19,
   "metadata": {},
   "outputs": [],
   "source": [
    "def create_datasets(dates,prices):\n",
    "    train_size=int(0.90*len(dates))\n",
    "    print (train_size)\n",
    "    TrainX,TrainY=[],[]\n",
    "    TestX,TestY=[],[]\n",
    "    cntr=0\n",
    "    for date in dates:\n",
    "        if cntr<train_size:\n",
    "            TrainX.append(date)\n",
    "        else:\n",
    "            TestX.append(date)\n",
    "        cntr = cntr+1\n",
    "    cntr=0\n",
    "    for price in prices:\n",
    "        if cntr<train_size:\n",
    "            TrainY.append(price)\n",
    "        else:\n",
    "            TestY.append(price)\n",
    "        cntr = cntr+1\n",
    "        \n",
    "    return TrainX,TrainY,TestX,TestY"
   ]
  },
  {
   "cell_type": "code",
   "execution_count": 21,
   "metadata": {},
   "outputs": [
    {
     "name": "stdout",
     "output_type": "stream",
     "text": [
      "142\n",
      "[8, 9, 10, 11, 14, 15, 16, 18, 21, 22, 23, 24, 28, 29, 30, 1]\n"
     ]
    }
   ],
   "source": [
    " TrainX,TrainY,TestX,TestY = create_datasets(dates, prices)\n",
    " print (TestX)"
   ]
  },
  {
   "cell_type": "code",
   "execution_count": 22,
   "metadata": {},
   "outputs": [],
   "source": [
    "def predict_price_test(dates, prices, x):\n",
    "\tdates = np.reshape(dates,(len(dates), 1)) # converting to matrix of n X 1\n",
    "\n",
    "\tsvr_rbf = SVR(kernel= 'rbf', C= 1e3, gamma= 0.1) # defining the support vector regression models\n",
    "\tsvr_rbf.fit(dates, prices) # fitting the data points in the models\n",
    "\t#print(\"jhjgj \",svr_rbf.predict(-1)[0])\n",
    "    #plt.plot(dates, svr_rbf.predict(dates), color= 'red', label= 'RBF model')\n",
    "    \n",
    "\treturn svr_rbf.predict(x)[0]"
   ]
  },
  {
   "cell_type": "code",
   "execution_count": 23,
   "metadata": {},
   "outputs": [
    {
     "ename": "ValueError",
     "evalue": "Expected 2D array, got scalar array instead:\narray=29.0.\nReshape your data either using array.reshape(-1, 1) if your data has a single feature or array.reshape(1, -1) if it contains a single sample.",
     "output_type": "error",
     "traceback": [
      "\u001b[0;31m---------------------------------------------------------------------------\u001b[0m",
      "\u001b[0;31mValueError\u001b[0m                                Traceback (most recent call last)",
      "\u001b[0;32m<ipython-input-23-53f179a64053>\u001b[0m in \u001b[0;36m<module>\u001b[0;34m\u001b[0m\n\u001b[0;32m----> 1\u001b[0;31m \u001b[0mpredicted_price\u001b[0m \u001b[0;34m=\u001b[0m \u001b[0mpredict_price_test\u001b[0m\u001b[0;34m(\u001b[0m\u001b[0mdates\u001b[0m\u001b[0;34m,\u001b[0m \u001b[0mprices\u001b[0m\u001b[0;34m,\u001b[0m \u001b[0;36m29\u001b[0m\u001b[0;34m)\u001b[0m\u001b[0;34m\u001b[0m\u001b[0;34m\u001b[0m\u001b[0m\n\u001b[0m\u001b[1;32m      2\u001b[0m \u001b[0mpredicted_price\u001b[0m\u001b[0;34m\u001b[0m\u001b[0;34m\u001b[0m\u001b[0m\n",
      "\u001b[0;32m<ipython-input-22-5831212f280c>\u001b[0m in \u001b[0;36mpredict_price_test\u001b[0;34m(dates, prices, x)\u001b[0m\n\u001b[1;32m      7\u001b[0m     \u001b[0;31m#plt.plot(dates, svr_rbf.predict(dates), color= 'red', label= 'RBF model')\u001b[0m\u001b[0;34m\u001b[0m\u001b[0;34m\u001b[0m\u001b[0;34m\u001b[0m\u001b[0m\n\u001b[1;32m      8\u001b[0m \u001b[0;34m\u001b[0m\u001b[0m\n\u001b[0;32m----> 9\u001b[0;31m         \u001b[0;32mreturn\u001b[0m \u001b[0msvr_rbf\u001b[0m\u001b[0;34m.\u001b[0m\u001b[0mpredict\u001b[0m\u001b[0;34m(\u001b[0m\u001b[0mx\u001b[0m\u001b[0;34m)\u001b[0m\u001b[0;34m[\u001b[0m\u001b[0;36m0\u001b[0m\u001b[0;34m]\u001b[0m\u001b[0;34m\u001b[0m\u001b[0;34m\u001b[0m\u001b[0m\n\u001b[0m",
      "\u001b[0;32m~/anaconda3/lib/python3.7/site-packages/sklearn/svm/base.py\u001b[0m in \u001b[0;36mpredict\u001b[0;34m(self, X)\u001b[0m\n\u001b[1;32m    320\u001b[0m         \u001b[0my_pred\u001b[0m \u001b[0;34m:\u001b[0m \u001b[0marray\u001b[0m\u001b[0;34m,\u001b[0m \u001b[0mshape\u001b[0m \u001b[0;34m(\u001b[0m\u001b[0mn_samples\u001b[0m\u001b[0;34m,\u001b[0m\u001b[0;34m)\u001b[0m\u001b[0;34m\u001b[0m\u001b[0;34m\u001b[0m\u001b[0m\n\u001b[1;32m    321\u001b[0m         \"\"\"\n\u001b[0;32m--> 322\u001b[0;31m         \u001b[0mX\u001b[0m \u001b[0;34m=\u001b[0m \u001b[0mself\u001b[0m\u001b[0;34m.\u001b[0m\u001b[0m_validate_for_predict\u001b[0m\u001b[0;34m(\u001b[0m\u001b[0mX\u001b[0m\u001b[0;34m)\u001b[0m\u001b[0;34m\u001b[0m\u001b[0;34m\u001b[0m\u001b[0m\n\u001b[0m\u001b[1;32m    323\u001b[0m         \u001b[0mpredict\u001b[0m \u001b[0;34m=\u001b[0m \u001b[0mself\u001b[0m\u001b[0;34m.\u001b[0m\u001b[0m_sparse_predict\u001b[0m \u001b[0;32mif\u001b[0m \u001b[0mself\u001b[0m\u001b[0;34m.\u001b[0m\u001b[0m_sparse\u001b[0m \u001b[0;32melse\u001b[0m \u001b[0mself\u001b[0m\u001b[0;34m.\u001b[0m\u001b[0m_dense_predict\u001b[0m\u001b[0;34m\u001b[0m\u001b[0;34m\u001b[0m\u001b[0m\n\u001b[1;32m    324\u001b[0m         \u001b[0;32mreturn\u001b[0m \u001b[0mpredict\u001b[0m\u001b[0;34m(\u001b[0m\u001b[0mX\u001b[0m\u001b[0;34m)\u001b[0m\u001b[0;34m\u001b[0m\u001b[0;34m\u001b[0m\u001b[0m\n",
      "\u001b[0;32m~/anaconda3/lib/python3.7/site-packages/sklearn/svm/base.py\u001b[0m in \u001b[0;36m_validate_for_predict\u001b[0;34m(self, X)\u001b[0m\n\u001b[1;32m    452\u001b[0m \u001b[0;34m\u001b[0m\u001b[0m\n\u001b[1;32m    453\u001b[0m         X = check_array(X, accept_sparse='csr', dtype=np.float64, order=\"C\",\n\u001b[0;32m--> 454\u001b[0;31m                         accept_large_sparse=False)\n\u001b[0m\u001b[1;32m    455\u001b[0m         \u001b[0;32mif\u001b[0m \u001b[0mself\u001b[0m\u001b[0;34m.\u001b[0m\u001b[0m_sparse\u001b[0m \u001b[0;32mand\u001b[0m \u001b[0;32mnot\u001b[0m \u001b[0msp\u001b[0m\u001b[0;34m.\u001b[0m\u001b[0misspmatrix\u001b[0m\u001b[0;34m(\u001b[0m\u001b[0mX\u001b[0m\u001b[0;34m)\u001b[0m\u001b[0;34m:\u001b[0m\u001b[0;34m\u001b[0m\u001b[0;34m\u001b[0m\u001b[0m\n\u001b[1;32m    456\u001b[0m             \u001b[0mX\u001b[0m \u001b[0;34m=\u001b[0m \u001b[0msp\u001b[0m\u001b[0;34m.\u001b[0m\u001b[0mcsr_matrix\u001b[0m\u001b[0;34m(\u001b[0m\u001b[0mX\u001b[0m\u001b[0;34m)\u001b[0m\u001b[0;34m\u001b[0m\u001b[0;34m\u001b[0m\u001b[0m\n",
      "\u001b[0;32m~/anaconda3/lib/python3.7/site-packages/sklearn/utils/validation.py\u001b[0m in \u001b[0;36mcheck_array\u001b[0;34m(array, accept_sparse, accept_large_sparse, dtype, order, copy, force_all_finite, ensure_2d, allow_nd, ensure_min_samples, ensure_min_features, warn_on_dtype, estimator)\u001b[0m\n\u001b[1;32m    512\u001b[0m                     \u001b[0;34m\"Reshape your data either using array.reshape(-1, 1) if \"\u001b[0m\u001b[0;34m\u001b[0m\u001b[0;34m\u001b[0m\u001b[0m\n\u001b[1;32m    513\u001b[0m                     \u001b[0;34m\"your data has a single feature or array.reshape(1, -1) \"\u001b[0m\u001b[0;34m\u001b[0m\u001b[0;34m\u001b[0m\u001b[0m\n\u001b[0;32m--> 514\u001b[0;31m                     \"if it contains a single sample.\".format(array))\n\u001b[0m\u001b[1;32m    515\u001b[0m             \u001b[0;31m# If input is 1D raise error\u001b[0m\u001b[0;34m\u001b[0m\u001b[0;34m\u001b[0m\u001b[0;34m\u001b[0m\u001b[0m\n\u001b[1;32m    516\u001b[0m             \u001b[0;32mif\u001b[0m \u001b[0marray\u001b[0m\u001b[0;34m.\u001b[0m\u001b[0mndim\u001b[0m \u001b[0;34m==\u001b[0m \u001b[0;36m1\u001b[0m\u001b[0;34m:\u001b[0m\u001b[0;34m\u001b[0m\u001b[0;34m\u001b[0m\u001b[0m\n",
      "\u001b[0;31mValueError\u001b[0m: Expected 2D array, got scalar array instead:\narray=29.0.\nReshape your data either using array.reshape(-1, 1) if your data has a single feature or array.reshape(1, -1) if it contains a single sample."
     ]
    }
   ],
   "source": [
    "predicted_price = predict_price_test(dates, prices, 29)  \n",
    "predicted_price"
   ]
  },
  {
   "cell_type": "code",
   "execution_count": 36,
   "metadata": {},
   "outputs": [],
   "source": [
    "predicted_prices = list()\n",
    "for i in range(30):\n",
    "    predicted_prices.append(predict_price_test(dates, prices, i+1))\n",
    "    #predicted_prices = predicted_prices.append(val)\n",
    "   # predicted_prices = predicted_prices.append(predict_price_test(dates, prices, i))\n",
    "#plt.plot(predicted_prices)"
   ]
  },
  {
   "cell_type": "code",
   "execution_count": 37,
   "metadata": {},
   "outputs": [
    {
     "data": {
      "text/plain": [
       "[6.936689506405,\n",
       " 6.936689506405,\n",
       " 6.936689506405,\n",
       " 6.936689506405,\n",
       " 6.936689506405,\n",
       " 6.936689506405,\n",
       " 6.936689506405,\n",
       " 6.936689506405,\n",
       " 6.936689506405,\n",
       " 6.936689506405,\n",
       " 6.936689506405,\n",
       " 6.936689506405,\n",
       " 6.936689506405,\n",
       " 6.936689506405,\n",
       " 6.936689506405,\n",
       " 6.936689506405,\n",
       " 6.936689506405,\n",
       " 6.936689506405,\n",
       " 6.936689506405,\n",
       " 6.936689506405,\n",
       " 6.936689506405,\n",
       " 6.936689506405,\n",
       " 6.936689506405,\n",
       " 6.936689506405,\n",
       " 6.936689506405,\n",
       " 6.936689506405,\n",
       " 6.936689506405,\n",
       " 6.936689506405,\n",
       " 6.936689506405,\n",
       " 6.936689506405]"
      ]
     },
     "execution_count": 37,
     "metadata": {},
     "output_type": "execute_result"
    }
   ],
   "source": [
    "predicted_prices"
   ]
  },
  {
   "cell_type": "code",
   "execution_count": 24,
   "metadata": {},
   "outputs": [
    {
     "ename": "NameError",
     "evalue": "name 'predictions' is not defined",
     "output_type": "error",
     "traceback": [
      "\u001b[0;31m---------------------------------------------------------------------------\u001b[0m",
      "\u001b[0;31mNameError\u001b[0m                                 Traceback (most recent call last)",
      "\u001b[0;32m<ipython-input-24-f18a5901ec2c>\u001b[0m in \u001b[0;36m<module>\u001b[0;34m\u001b[0m\n\u001b[1;32m      2\u001b[0m \u001b[0;32mfrom\u001b[0m \u001b[0msklearn\u001b[0m\u001b[0;34m.\u001b[0m\u001b[0mmetrics\u001b[0m \u001b[0;32mimport\u001b[0m \u001b[0mmean_squared_error\u001b[0m\u001b[0;34m\u001b[0m\u001b[0;34m\u001b[0m\u001b[0m\n\u001b[1;32m      3\u001b[0m \u001b[0;32mfrom\u001b[0m \u001b[0msklearn\u001b[0m\u001b[0;34m.\u001b[0m\u001b[0mmetrics\u001b[0m \u001b[0;32mimport\u001b[0m \u001b[0maccuracy_score\u001b[0m\u001b[0;34m\u001b[0m\u001b[0;34m\u001b[0m\u001b[0m\n\u001b[0;32m----> 4\u001b[0;31m \u001b[0merror\u001b[0m \u001b[0;34m=\u001b[0m \u001b[0mmath\u001b[0m\u001b[0;34m.\u001b[0m\u001b[0msqrt\u001b[0m\u001b[0;34m(\u001b[0m\u001b[0mmean_squared_error\u001b[0m\u001b[0;34m(\u001b[0m\u001b[0mprices\u001b[0m\u001b[0;34m,\u001b[0m \u001b[0mpredictions\u001b[0m\u001b[0;34m)\u001b[0m\u001b[0;34m)\u001b[0m\u001b[0;34m\u001b[0m\u001b[0;34m\u001b[0m\u001b[0m\n\u001b[0m\u001b[1;32m      5\u001b[0m \u001b[0mprint\u001b[0m\u001b[0;34m(\u001b[0m\u001b[0;34m'Test MSE: %.3f'\u001b[0m \u001b[0;34m%\u001b[0m \u001b[0merror\u001b[0m\u001b[0;34m)\u001b[0m\u001b[0;34m\u001b[0m\u001b[0;34m\u001b[0m\u001b[0m\n",
      "\u001b[0;31mNameError\u001b[0m: name 'predictions' is not defined"
     ]
    }
   ],
   "source": [
    "import math\n",
    "from sklearn.metrics import mean_squared_error\n",
    "from sklearn.metrics import accuracy_score\n",
    "error = math.sqrt(mean_squared_error(prices, predictions))\n",
    "print('Test MSE: %.3f' % error)"
   ]
  },
  {
   "cell_type": "code",
   "execution_count": null,
   "metadata": {},
   "outputs": [],
   "source": []
  }
 ],
 "metadata": {
  "kernelspec": {
   "display_name": "Python 3",
   "language": "python",
   "name": "python3"
  },
  "language_info": {
   "codemirror_mode": {
    "name": "ipython",
    "version": 3
   },
   "file_extension": ".py",
   "mimetype": "text/x-python",
   "name": "python",
   "nbconvert_exporter": "python",
   "pygments_lexer": "ipython3",
   "version": "3.7.4"
  }
 },
 "nbformat": 4,
 "nbformat_minor": 2
}
