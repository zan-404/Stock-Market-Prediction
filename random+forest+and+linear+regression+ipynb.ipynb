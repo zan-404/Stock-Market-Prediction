{
 "cells": [
  {
   "cell_type": "code",
   "execution_count": 1,
   "metadata": {},
   "outputs": [],
   "source": [
    "import numpy as np\n",
    "import scipy as sp\n",
    "import pandas as pd\n",
    "from subprocess import check_output\n",
    "\n",
    "import time, json\n",
    "from datetime import date\n",
    "\n",
    "import time\n",
    "import math\n",
    "import sklearn.preprocessing as prep\n",
    "import matplotlib.pylab as plt\n",
    "%matplotlib inline\n",
    "from matplotlib.pylab import rcParams"
   ]
  },
  {
   "cell_type": "code",
   "execution_count": 2,
   "metadata": {},
   "outputs": [],
   "source": [
    "df= pd.read_csv('groupeddf.csv')\n",
    "df4=df.set_index(\"Code\")"
   ]
  },
  {
   "cell_type": "code",
   "execution_count": 3,
   "metadata": {},
   "outputs": [],
   "source": [
    "uniqueVals = df[\"Code\"].unique()  \n"
   ]
  },
  {
   "cell_type": "code",
   "execution_count": 4,
   "metadata": {},
   "outputs": [
    {
     "data": {
      "text/plain": [
       "array(['3IINFOTECH', '8KMILES', 'ABAN', 'ABB', 'ABBOTINDIA', 'ABIRLANUVO',\n",
       "       'ACC', 'ADANIENT', 'ADANIPORTS', 'ADANIPOWER', 'AHMEDFORGE',\n",
       "       'AIAENG', 'AIL', 'AJANTPHARM', 'AKZOINDIA', 'ALBK', 'ALEMBICLTD',\n",
       "       'ALLCARGO', 'ALOKTEXT', 'AMARAJABAT', 'AMBUJACEM', 'AMTEKAUTO',\n",
       "       'AMTEKINDIA', 'ANANTRAJ', 'ANDHRABANK', 'APLLTD', 'APOLLOHOSP',\n",
       "       'APOLLOTYRE', 'ARCOTECH', 'ARVIND', 'ARVINDREM', 'ASHOKA',\n",
       "       'ASHOKLEY', 'ASIANPAINT', 'ASTRAL', 'ASTRAMICRO', 'ATFL',\n",
       "       'ATULAUTO', 'AURIONPRO', 'AUROPHARMA', 'AXISBANK', 'AXISCADES',\n",
       "       'BAJAJCORP', 'BAJAJELEC', 'BAJAJFINSV', 'BAJAJHIND', 'BAJAJHLDNG',\n",
       "       'BAJFINANCE', 'BALKRISIND', 'BALMLAWRIE', 'BALRAMCHIN',\n",
       "       'BANKBARODA', 'BANKINDIA', 'BATAINDIA', 'BAYERCROP', 'BBL', 'BBTC',\n",
       "       'BEL', 'BEML', 'BERGEPAINT', 'BFUTILITIE', 'BGRENERGY',\n",
       "       'BHARATFORG', 'BHARTIARTL', 'BHEL', 'BIOCON', 'BLUEDART',\n",
       "       'BOMDYEING', 'BOSCHLTD', 'BPCL', 'BPL', 'BRITANNIA', 'CADILAHC',\n",
       "       'CAIRN', 'CANBK', 'CANFINHOME', 'CAPF', 'CARERATING', 'CASTROLIND',\n",
       "       'CEATLTD', 'CENTRALBK', 'CENTUM', 'CENTURYTEX', 'CERA', 'CESC',\n",
       "       'CHAMBLFERT', 'CHOLAFIN', 'CIPLA', 'CMAHENDRA', 'CMC', 'COALINDIA',\n",
       "       'CONCOR', 'COROMANDEL', 'CORPBANK', 'CRISIL', 'CROMPGREAV', 'CUB',\n",
       "       'CUMMINSIND', 'CYIENT', 'DABUR', 'DBREALTY', 'DCBBANK',\n",
       "       'DEEPAKFERT', 'DELTACORP', 'DENABANK', 'DEN', 'DHFL', 'DISHMAN',\n",
       "       'DISHTV', 'DIVISLAB', 'DLF', 'DRDATSONS', 'DREDGECORP', 'DRREDDY',\n",
       "       'EDELWEISS', 'EICHERMOT', 'ELDERPHARM', 'EMAMILTD', 'ENGINERSIN',\n",
       "       'EROSMEDIA', 'ESCORTS', 'ESSAROIL', 'ESSDEE', 'ESSELPACK',\n",
       "       'EVERESTIND', 'EXIDEIND', 'FCEL', 'FEDERALBNK', 'FIEMIND',\n",
       "       'FINCABLES', 'FINPIPE', 'FORTIS', 'FRL', 'FSL', 'GABRIEL',\n",
       "       'GALLISPAT', 'GATI', 'GDL', 'GEOMETRIC', 'GESHIP', 'GICHSGFIN',\n",
       "       'GITANJALI', 'GLAXO', 'GLENMARK', 'GLOBOFFS', 'GMDCLTD',\n",
       "       'GMRINFRA', 'GNFC', 'GODREJCP', 'GODREJIND', 'GODREJPROP',\n",
       "       'GOLDBEES', 'GPPL', 'GRANULES', 'GRASIM', 'GREAVESCOT', 'GRUH',\n",
       "       'GSFC', 'GSKCONS', 'GSPL', 'GUJRATGAS', 'GULFOILLUB', 'GVKPIL',\n",
       "       'HANUNG', 'HATHWAY', 'HAVELLS', 'HBLPOWER', 'HCC', 'HCLTECH',\n",
       "       'HDFCBANK', 'HDFC', 'HDIL', 'HEIDELBERG', 'HEROMOTOCO', 'HEXAWARE',\n",
       "       'HFCL', 'HINDALCO', 'HINDOILEXP', 'HINDPETRO', 'HINDUNILVR',\n",
       "       'HINDZINC', 'HITECHGEAR', 'HMT', 'HSIL', 'IBREALEST', 'IBULHSGFIN',\n",
       "       'ICICIBANK', 'IDBI', 'IDEA', 'IDFC', 'IFBIND', 'IFCI', 'IGL',\n",
       "       'IIFL', 'IMPAL', 'INDHOTEL', 'INDIACEM', 'INDIANB', 'INDOCO',\n",
       "       'INDOSOLAR', 'INDRAMEDCO', 'INDUSINDBK', 'INFRATEL', 'INFY',\n",
       "       'INGVYSYABK', 'INTELLECT', 'IOB', 'IOC', 'IPCALAB', 'IRB', 'ITC',\n",
       "       'IVRCLINFRA', 'JAICORPLTD', 'JBFIND', 'JBMA', 'JINDALPOLY',\n",
       "       'JINDALSAW', 'JINDALSTEL', 'JISLJALEQS', 'JKCEMENT', 'JKLAKSHMI',\n",
       "       'JKTYRE', 'JMFINANCIL', 'JPASSOCIAT', 'JPINFRATEC', 'JPPOWER',\n",
       "       'JSL', 'JSWENERGY', 'JSWHL', 'JSWSTEEL', 'JUBILANT', 'JUBLFOOD',\n",
       "       'JUSTDIAL', 'JYOTHYLAB', 'KAJARIACER', 'KALPATPOWR', 'KANSAINER',\n",
       "       'KARURVYSYA', 'KEC', 'KEI', 'KESORAMIND', 'KITEX', 'KOLTEPATIL',\n",
       "       'KOPRAN', 'KOTAKBANK', 'KPIT', 'KPRMILL', 'KRBL', 'KSCL', 'KSL',\n",
       "       'KTKBANK', 'LAKSHVILAS', 'LIBERTSHOE', 'LICHSGFIN', 'LIQUIDBEES',\n",
       "       'LITL', 'LLOYDELENG', 'LOVABLE', 'LT', 'LUMAXTECH', 'LUPIN',\n",
       "       'MAHINDCIE', 'MAHSEAMLES', 'MAKE', 'MANAPPURAM', 'MANGCHEFER',\n",
       "       'MANGLMCEM', 'MANINFRA', 'MARICO', 'MARKSANS', 'MARUTI', 'MASTEK',\n",
       "       'MAX', 'MCLEODRUSS', 'MCX', 'MEGH', 'MERCK', 'MHRIL', 'MINDTREE',\n",
       "       'MIRZAINT', 'MMFL', 'MMTC', 'MOIL', 'MONSANTO', 'MONTECARLO',\n",
       "       'MOTHERSUMI', 'MPHASIS', 'MPSLTD', 'MRF', 'MTNL', 'MUTHOOTFIN',\n",
       "       'NATCOPHARM', 'NATIONALUM', 'NBCC', 'NCC', 'NDL', 'NELCO', 'NESCO',\n",
       "       'NESTLEIND', 'NEULANDLAB', 'NFL', 'NHPC', 'NIFTYBEES', 'NIITLTD',\n",
       "       'NILKAMAL', 'NMDC', 'NOCIL', 'NTPC', 'OBEROIRLTY', 'OFSS', 'OIL',\n",
       "       'OMAXE', 'OMKARCHEM', 'ONGC', 'ONMOBILE', 'ORCHIDCHEM',\n",
       "       'ORIENTBANK', 'ORIENTCEM', 'ORISSAMINE', 'PAGEIND', 'PARSVNATH',\n",
       "       'PATELENG', 'PATINTLOG', 'PCJEWELLER', 'PEL', 'PENIND',\n",
       "       'PERSISTENT', 'PETRONET', 'PFC', 'PFIZER', 'PFS', 'PHILIPCARB',\n",
       "       'PHOENIXLTD', 'PIDILITIND', 'PIIND', 'PIPAVAVDOC', 'PNB',\n",
       "       'PNBGILTS', 'POLARIS', 'POLYMED', 'PONDYOXIDE', 'POWERGRID',\n",
       "       'PRAJIND', 'PRESTIGE', 'PTC', 'PUNJLLOYD', 'PVR', 'RAJTV',\n",
       "       'RALLIS', 'RAMCOCEM', 'RANBAXY', 'RAYMOND', 'RCF', 'RCOM',\n",
       "       'RECLTD', 'RELAXO', 'RELCAPITAL', 'RELIANCE', 'RELIGARE',\n",
       "       'RELINFRA', 'RENUKA', 'REPCOHOME', 'RICOAUTO', 'RIIL', 'RKFORGE',\n",
       "       'ROLTA', 'RPOWER', 'SADBHAV', 'SAIL', 'SAKSOFT', 'SANOFI', 'SBBJ',\n",
       "       'SBIN', 'SBT', 'SCHNEIDER', 'SCI', 'SELAN', 'SFCL', 'SHALPAINTS',\n",
       "       'SHARDACROP', 'SHARONBIO', 'SHASUNPHAR', 'SHOPERSTOP', 'SHREECEM',\n",
       "       'SHREYAS', 'SHRIRAMCIT', 'SICAL', 'SIEMENS', 'SINTEX', 'SKSMICRO',\n",
       "       'SMLISUZU', 'SNOWMAN', 'SOBHA', 'SOUTHBANK', 'SPARC', 'SPIC',\n",
       "       'SREINFRA', 'SRF', 'SRTRANSFIN', 'SSLT', 'STAR', 'STRTECH',\n",
       "       'SUNDRMFAST', 'SUNPHARMA', 'SUNTV', 'SURYAROSNI', 'SUVEN',\n",
       "       'SUZLON', 'SWANENERGY', 'SYMPHONY', 'SYNDIBANK', 'TALWALKARS',\n",
       "       'TANLA', 'TATACHEM', 'TATACOFFEE', 'TATACOMM', 'TATAELXSI',\n",
       "       'TATAGLOBAL', 'TATAMETALI', 'TATAMOTORS', 'TATAPOWER',\n",
       "       'TATASPONGE', 'TATASTEEL', 'TCI', 'TCS', 'TECHM', 'TEXRAIL',\n",
       "       'TFCILTD', 'THEBYKE', 'THERMAX', 'TI', 'TIMKEN', 'TITAN',\n",
       "       'TORNTPHARM', 'TORNTPOWER', 'TREEHOUSE', 'TRENT', 'TTML',\n",
       "       'TV18BRDCST', 'TVSMOTOR', 'TVTODAY', 'TWL'], dtype=object)"
      ]
     },
     "execution_count": 4,
     "metadata": {},
     "output_type": "execute_result"
    }
   ],
   "source": [
    "uniqueVals"
   ]
  },
  {
   "cell_type": "code",
   "execution_count": 5,
   "metadata": {},
   "outputs": [],
   "source": [
    "grouped_df=pd.DataFrame()\n",
    "for i in uniqueVals:\n",
    "    df5 = (df4.loc[i,:]).groupby(['Code','Date']).mean()\n",
    "    # store DataFrame in list\n",
    "    grouped_df=grouped_df.append(df5)\n",
    "grouped_df.reset_index()\n",
    "del df5"
   ]
  },
  {
   "cell_type": "code",
   "execution_count": 6,
   "metadata": {},
   "outputs": [
    {
     "data": {
      "text/html": [
       "<div>\n",
       "<style scoped>\n",
       "    .dataframe tbody tr th:only-of-type {\n",
       "        vertical-align: middle;\n",
       "    }\n",
       "\n",
       "    .dataframe tbody tr th {\n",
       "        vertical-align: top;\n",
       "    }\n",
       "\n",
       "    .dataframe thead th {\n",
       "        text-align: right;\n",
       "    }\n",
       "</style>\n",
       "<table border=\"1\" class=\"dataframe\">\n",
       "  <thead>\n",
       "    <tr style=\"text-align: right;\">\n",
       "      <th></th>\n",
       "      <th>Date</th>\n",
       "      <th>Open</th>\n",
       "      <th>High</th>\n",
       "      <th>Low</th>\n",
       "      <th>Close</th>\n",
       "      <th>Volume</th>\n",
       "    </tr>\n",
       "  </thead>\n",
       "  <tbody>\n",
       "    <tr>\n",
       "      <td>0</td>\n",
       "      <td>2014-12-18</td>\n",
       "      <td>561.963918</td>\n",
       "      <td>562.615636</td>\n",
       "      <td>561.317698</td>\n",
       "      <td>562.008419</td>\n",
       "      <td>148.219931</td>\n",
       "    </tr>\n",
       "    <tr>\n",
       "      <td>1</td>\n",
       "      <td>2014-12-19</td>\n",
       "      <td>588.985235</td>\n",
       "      <td>589.995805</td>\n",
       "      <td>588.078859</td>\n",
       "      <td>589.031208</td>\n",
       "      <td>335.969799</td>\n",
       "    </tr>\n",
       "    <tr>\n",
       "      <td>2</td>\n",
       "      <td>2014-12-22</td>\n",
       "      <td>603.079123</td>\n",
       "      <td>603.608772</td>\n",
       "      <td>602.417544</td>\n",
       "      <td>603.047193</td>\n",
       "      <td>169.870175</td>\n",
       "    </tr>\n",
       "    <tr>\n",
       "      <td>3</td>\n",
       "      <td>2014-12-23</td>\n",
       "      <td>600.358528</td>\n",
       "      <td>600.876254</td>\n",
       "      <td>599.931438</td>\n",
       "      <td>600.357692</td>\n",
       "      <td>97.444816</td>\n",
       "    </tr>\n",
       "    <tr>\n",
       "      <td>4</td>\n",
       "      <td>2014-12-24</td>\n",
       "      <td>588.538106</td>\n",
       "      <td>589.038987</td>\n",
       "      <td>588.018722</td>\n",
       "      <td>588.531498</td>\n",
       "      <td>117.449339</td>\n",
       "    </tr>\n",
       "    <tr>\n",
       "      <td>...</td>\n",
       "      <td>...</td>\n",
       "      <td>...</td>\n",
       "      <td>...</td>\n",
       "      <td>...</td>\n",
       "      <td>...</td>\n",
       "      <td>...</td>\n",
       "    </tr>\n",
       "    <tr>\n",
       "      <td>178</td>\n",
       "      <td>2015-09-24</td>\n",
       "      <td>1425.896581</td>\n",
       "      <td>1426.803205</td>\n",
       "      <td>1425.048077</td>\n",
       "      <td>1425.834615</td>\n",
       "      <td>85.448718</td>\n",
       "    </tr>\n",
       "    <tr>\n",
       "      <td>179</td>\n",
       "      <td>2015-09-28</td>\n",
       "      <td>1413.101322</td>\n",
       "      <td>1413.839868</td>\n",
       "      <td>1412.314537</td>\n",
       "      <td>1412.951322</td>\n",
       "      <td>71.374449</td>\n",
       "    </tr>\n",
       "    <tr>\n",
       "      <td>180</td>\n",
       "      <td>2015-09-29</td>\n",
       "      <td>1383.679461</td>\n",
       "      <td>1384.679253</td>\n",
       "      <td>1382.544606</td>\n",
       "      <td>1383.513900</td>\n",
       "      <td>82.506224</td>\n",
       "    </tr>\n",
       "    <tr>\n",
       "      <td>181</td>\n",
       "      <td>2015-09-30</td>\n",
       "      <td>1400.488693</td>\n",
       "      <td>1400.946985</td>\n",
       "      <td>1399.891960</td>\n",
       "      <td>1400.346734</td>\n",
       "      <td>54.628141</td>\n",
       "    </tr>\n",
       "    <tr>\n",
       "      <td>182</td>\n",
       "      <td>2015-10-01</td>\n",
       "      <td>1423.937900</td>\n",
       "      <td>1424.694521</td>\n",
       "      <td>1422.964840</td>\n",
       "      <td>1423.700000</td>\n",
       "      <td>94.360731</td>\n",
       "    </tr>\n",
       "  </tbody>\n",
       "</table>\n",
       "<p>183 rows × 6 columns</p>\n",
       "</div>"
      ],
      "text/plain": [
       "           Date         Open         High          Low        Close  \\\n",
       "0    2014-12-18   561.963918   562.615636   561.317698   562.008419   \n",
       "1    2014-12-19   588.985235   589.995805   588.078859   589.031208   \n",
       "2    2014-12-22   603.079123   603.608772   602.417544   603.047193   \n",
       "3    2014-12-23   600.358528   600.876254   599.931438   600.357692   \n",
       "4    2014-12-24   588.538106   589.038987   588.018722   588.531498   \n",
       "..          ...          ...          ...          ...          ...   \n",
       "178  2015-09-24  1425.896581  1426.803205  1425.048077  1425.834615   \n",
       "179  2015-09-28  1413.101322  1413.839868  1412.314537  1412.951322   \n",
       "180  2015-09-29  1383.679461  1384.679253  1382.544606  1383.513900   \n",
       "181  2015-09-30  1400.488693  1400.946985  1399.891960  1400.346734   \n",
       "182  2015-10-01  1423.937900  1424.694521  1422.964840  1423.700000   \n",
       "\n",
       "         Volume  \n",
       "0    148.219931  \n",
       "1    335.969799  \n",
       "2    169.870175  \n",
       "3     97.444816  \n",
       "4    117.449339  \n",
       "..          ...  \n",
       "178   85.448718  \n",
       "179   71.374449  \n",
       "180   82.506224  \n",
       "181   54.628141  \n",
       "182   94.360731  \n",
       "\n",
       "[183 rows x 6 columns]"
      ]
     },
     "execution_count": 6,
     "metadata": {},
     "output_type": "execute_result"
    }
   ],
   "source": [
    "#'3IINFOTECH', '8KMILES', 'ABAN'\n",
    "\n",
    "df1=grouped_df.loc[\"8KMILES\",:]\n",
    "df2=df1.reset_index()\n",
    "label=df2['Date'].values.tolist()\n",
    "trainset=df2['Open'].values.tolist()\n",
    "df2"
   ]
  },
  {
   "cell_type": "code",
   "execution_count": 7,
   "metadata": {},
   "outputs": [],
   "source": [
    "from sklearn.preprocessing import StandardScaler,MinMaxScaler\n",
    "from sklearn.ensemble import RandomForestRegressor\n",
    "from sklearn.metrics import r2_score,mean_squared_error"
   ]
  },
  {
   "cell_type": "code",
   "execution_count": 8,
   "metadata": {},
   "outputs": [],
   "source": [
    "def create_dataset(dataset,past=1):\n",
    "    dataX, dataY = [], []\n",
    "    for i in range(len(dataset)-past-1):\n",
    "        j = dataset[i:(i+past), 0]\n",
    "        dataX.append(j)\n",
    "        dataY.append(dataset[i + past, 0])\n",
    "    return np.array(dataX), np.array(dataY)"
   ]
  },
  {
   "cell_type": "code",
   "execution_count": 9,
   "metadata": {},
   "outputs": [],
   "source": [
    "from sklearn.preprocessing import MinMaxScaler\n",
    "def testandtrain(prices):\n",
    "    scaler = MinMaxScaler(feature_range=(0, 1))\n",
    "    prices = scaler.fit_transform(prices)\n",
    "    trainsize = int(len(prices) * 0.80)\n",
    "    testsize = len(prices) - trainsize\n",
    "    train, test = prices[0:trainsize,:], prices[trainsize:len(prices),:]\n",
    "    print(len(train), len(test))\n",
    "    \n",
    "    x_train,y_train = create_dataset(train,1)\n",
    "    x_test,y_test = create_dataset(test,1)\n",
    "    \n",
    "    x_train = scaler.fit_transform(x_train)\n",
    "    x_test = scaler.fit_transform(x_test)\n",
    "    #y_test =scaler.fit_transform(y_test)\n",
    "    #y_train=scaler.fit_transform(y_train)\n",
    "    return x_train,y_train, x_test,y_test\n",
    "\n",
    "\n",
    "\n"
   ]
  },
  {
   "cell_type": "code",
   "execution_count": 10,
   "metadata": {},
   "outputs": [
    {
     "data": {
      "text/plain": [
       "(183, 1)"
      ]
     },
     "execution_count": 10,
     "metadata": {},
     "output_type": "execute_result"
    }
   ],
   "source": [
    "prices = df2['Close'].values.astype('float32') \n",
    "# Obtaining the values of closing data each day and converting to float as Neural network can easily model float \n",
    "prices = prices.reshape(len(prices), 1)\n",
    "prices.shape\n",
    "\n"
   ]
  },
  {
   "cell_type": "code",
   "execution_count": 11,
   "metadata": {},
   "outputs": [
    {
     "name": "stdout",
     "output_type": "stream",
     "text": [
      "146 37\n"
     ]
    }
   ],
   "source": [
    "trainX, trainY, testX, testY=testandtrain(prices)"
   ]
  },
  {
   "cell_type": "code",
   "execution_count": null,
   "metadata": {},
   "outputs": [],
   "source": []
  },
  {
   "cell_type": "code",
   "execution_count": 12,
   "metadata": {},
   "outputs": [],
   "source": [
    "randomforest  = RandomForestRegressor(random_state=2017,verbose=2,n_jobs=5) #random forest algorithm"
   ]
  },
  {
   "cell_type": "code",
   "execution_count": 13,
   "metadata": {},
   "outputs": [
    {
     "name": "stderr",
     "output_type": "stream",
     "text": [
      "/home/zan/anaconda3/lib/python3.7/site-packages/sklearn/ensemble/forest.py:245: FutureWarning: The default value of n_estimators will change from 10 in version 0.20 to 100 in 0.22.\n",
      "  \"10 in version 0.20 to 100 in 0.22.\", FutureWarning)\n",
      "[Parallel(n_jobs=5)]: Using backend ThreadingBackend with 5 concurrent workers.\n"
     ]
    },
    {
     "name": "stdout",
     "output_type": "stream",
     "text": [
      "building tree 1 of 10building tree 2 of 10\n",
      "\n",
      "building tree 3 of 10\n",
      "building tree 4 of 10\n",
      "building tree 5 of 10\n",
      "building tree 6 of 10\n",
      "building tree 7 of 10\n",
      "building tree 8 of 10\n",
      "building tree 9 of 10\n",
      "building tree 10 of 10\n"
     ]
    },
    {
     "name": "stderr",
     "output_type": "stream",
     "text": [
      "[Parallel(n_jobs=5)]: Done   7 out of  10 | elapsed:    0.2s remaining:    0.1s\n",
      "[Parallel(n_jobs=5)]: Done  10 out of  10 | elapsed:    0.2s finished\n"
     ]
    },
    {
     "data": {
      "text/plain": [
       "RandomForestRegressor(bootstrap=True, criterion='mse', max_depth=None,\n",
       "                      max_features='auto', max_leaf_nodes=None,\n",
       "                      min_impurity_decrease=0.0, min_impurity_split=None,\n",
       "                      min_samples_leaf=1, min_samples_split=2,\n",
       "                      min_weight_fraction_leaf=0.0, n_estimators=10, n_jobs=5,\n",
       "                      oob_score=False, random_state=2017, verbose=2,\n",
       "                      warm_start=False)"
      ]
     },
     "execution_count": 13,
     "metadata": {},
     "output_type": "execute_result"
    }
   ],
   "source": [
    "randomforest.fit(trainX,trainY)"
   ]
  },
  {
   "cell_type": "code",
   "execution_count": 14,
   "metadata": {},
   "outputs": [
    {
     "name": "stderr",
     "output_type": "stream",
     "text": [
      "[Parallel(n_jobs=5)]: Using backend ThreadingBackend with 5 concurrent workers.\n",
      "[Parallel(n_jobs=5)]: Done   7 out of  10 | elapsed:    0.0s remaining:    0.0s\n",
      "[Parallel(n_jobs=5)]: Done  10 out of  10 | elapsed:    0.0s finished\n"
     ]
    }
   ],
   "source": [
    "test=[]\n",
    "test= randomforest.predict(testX)"
   ]
  },
  {
   "cell_type": "code",
   "execution_count": 15,
   "metadata": {},
   "outputs": [
    {
     "data": {
      "text/plain": [
       "array([0.3665992 , 0.34853208, 0.3367042 , 0.3455994 , 0.36045766,\n",
       "       0.37352097, 0.3716843 , 0.46163356, 0.49432492, 0.4646306 ,\n",
       "       0.42408788, 0.57748544, 0.7374294 , 0.7817353 , 0.75124586,\n",
       "       0.7573086 , 0.76831853, 0.8345448 , 0.79339325, 0.8194858 ,\n",
       "       0.82750404, 0.94312084, 0.9119475 , 0.9489646 , 0.9445609 ,\n",
       "       0.95504785, 0.98091006, 0.97550523, 1.        , 0.99246335,\n",
       "       0.9764079 , 0.9988419 , 0.9839449 , 0.94990647, 0.96937025],\n",
       "      dtype=float32)"
      ]
     },
     "execution_count": 15,
     "metadata": {},
     "output_type": "execute_result"
    }
   ],
   "source": [
    "testY"
   ]
  },
  {
   "cell_type": "code",
   "execution_count": 16,
   "metadata": {},
   "outputs": [
    {
     "data": {
      "text/plain": [
       "0.502885160662743"
      ]
     },
     "execution_count": 16,
     "metadata": {},
     "output_type": "execute_result"
    }
   ],
   "source": [
    "from sklearn.metrics import mean_squared_error\n",
    "math.sqrt(mean_squared_error(test,testY))\n",
    "\n",
    "#mean_squared_error(test,testY)"
   ]
  },
  {
   "cell_type": "code",
   "execution_count": 17,
   "metadata": {},
   "outputs": [
    {
     "data": {
      "image/png": "[encoded data removed]",
      "text/plain": [
       "<Figure size 432x288 with 1 Axes>"
      ]
     },
     "metadata": {
      "needs_background": "light"
     },
     "output_type": "display_data"
    }
   ],
   "source": [
    "plt.plot(test,color=\"blue\")\n",
    "plt.plot(testY,color='red')\n",
    "plt.show()"
   ]
  },
  {
   "cell_type": "code",
   "execution_count": 18,
   "metadata": {},
   "outputs": [],
   "source": [
    "from sklearn import datasets, linear_model\n",
    "from sklearn.metrics import mean_squared_error\n",
    "regr = linear_model.LinearRegression()\n",
    "regr.fit(trainX, trainY)\n",
    "test= regr.predict(testX)\n"
   ]
  },
  {
   "cell_type": "code",
   "execution_count": 19,
   "metadata": {},
   "outputs": [
    {
     "data": {
      "text/plain": [
       "0.5048180544142529"
      ]
     },
     "execution_count": 19,
     "metadata": {},
     "output_type": "execute_result"
    }
   ],
   "source": [
    "from sklearn.metrics import mean_squared_error\n",
    "math.sqrt(mean_squared_error(test,testY))"
   ]
  },
  {
   "cell_type": "code",
   "execution_count": 20,
   "metadata": {},
   "outputs": [
    {
     "data": {
      "image/png": "[encoded data removed]",
      "text/plain": [
       "<Figure size 432x288 with 1 Axes>"
      ]
     },
     "metadata": {
      "needs_background": "light"
     },
     "output_type": "display_data"
    }
   ],
   "source": [
    "plt.plot(test,color=\"blue\")\n",
    "plt.plot(testY,color='red')\n",
    "plt.show()"
   ]
  },
  {
   "cell_type": "code",
   "execution_count": null,
   "metadata": {},
   "outputs": [],
   "source": []
  },
  {
   "cell_type": "code",
   "execution_count": null,
   "metadata": {},
   "outputs": [],
   "source": []
  },
  {
   "cell_type": "code",
   "execution_count": null,
   "metadata": {},
   "outputs": [],
   "source": []
  },
  {
   "cell_type": "code",
   "execution_count": null,
   "metadata": {},
   "outputs": [],
   "source": []
  }
 ],
 "metadata": {
  "kernelspec": {
   "display_name": "Python 3",
   "language": "python",
   "name": "python3"
  },
  "language_info": {
   "codemirror_mode": {
    "name": "ipython",
    "version": 3
   },
   "file_extension": ".py",
   "mimetype": "text/x-python",
   "name": "python",
   "nbconvert_exporter": "python",
   "pygments_lexer": "ipython3",
   "version": "3.7.4"
  }
 },
 "nbformat": 4,
 "nbformat_minor": 2
}
